{
 "cells": [
  {
   "cell_type": "markdown",
   "id": "0a52d920",
   "metadata": {},
   "source": [
    "# Data Science Tools and Ecosystem"
   ]
  },
  {
   "cell_type": "markdown",
   "id": "b04b819a",
   "metadata": {},
   "source": [
    "In this notebook, Data Science Tools and Ecosystem are Summarized:\n"
   ]
  },
  {
   "cell_type": "markdown",
   "id": "c1e166e2",
   "metadata": {},
   "source": [
    "**Objectives:**\n",
    "\n",
    "- list popular data science language\n",
    "- open source enviroments\n",
    "- tables in jupyter notebook\n",
    "- font size in jupyter notebook"
   ]
  },
  {
   "cell_type": "markdown",
   "id": "bdc9541f",
   "metadata": {},
   "source": [
    "some of the popular and common languages that Data Scientists use are:\n",
    "1. Python\n",
    "2. R\n",
    "3. sql and Java"
   ]
  },
  {
   "cell_type": "markdown",
   "id": "2987979e",
   "metadata": {},
   "source": [
    "some of the commonly used libraries used by data Scientists includes:\n",
    "1. Numpy\n",
    "2. Pandas\n",
    "3. Matplotlib"
   ]
  },
  {
   "cell_type": "markdown",
   "id": "ac23cf1b",
   "metadata": {},
   "source": [
    "|Data Science Tools|\n",
    "|------------------|\n",
    "|R-studio          |\n",
    "|jupyter notebook  |\n",
    "|spyder            |\n",
    "|jupyter Lab       |"
   ]
  },
  {
   "cell_type": "markdown",
   "id": "acb0fee9",
   "metadata": {},
   "source": [
    "### Below are some examples of arithmatic expression"
   ]
  },
  {
   "cell_type": "code",
   "execution_count": 1,
   "id": "c34105db",
   "metadata": {},
   "outputs": [
    {
     "data": {
      "text/plain": [
       "17"
      ]
     },
     "execution_count": 1,
     "metadata": {},
     "output_type": "execute_result"
    }
   ],
   "source": [
    "(3*4)+5"
   ]
  },
  {
   "cell_type": "code",
   "execution_count": 2,
   "id": "541cb848",
   "metadata": {},
   "outputs": [
    {
     "data": {
      "text/plain": [
       "3.3333333333333335"
      ]
     },
     "execution_count": 2,
     "metadata": {},
     "output_type": "execute_result"
    }
   ],
   "source": [
    "#THIs will convert 200 minutes to hours by diving by 60\n",
    "200/60"
   ]
  },
  {
   "cell_type": "markdown",
   "id": "eb5001cb",
   "metadata": {},
   "source": [
    "## Author's Name:\n",
    "Hossam Ragab"
   ]
  },
  {
   "cell_type": "code",
   "execution_count": null,
   "id": "260963b9",
   "metadata": {},
   "outputs": [],
   "source": []
  }
 ],
 "metadata": {
  "kernelspec": {
   "display_name": "Python 3 (ipykernel)",
   "language": "python",
   "name": "python3"
  },
  "language_info": {
   "codemirror_mode": {
    "name": "ipython",
    "version": 3
   },
   "file_extension": ".py",
   "mimetype": "text/x-python",
   "name": "python",
   "nbconvert_exporter": "python",
   "pygments_lexer": "ipython3",
   "version": "3.9.12"
  }
 },
 "nbformat": 4,
 "nbformat_minor": 5
}
